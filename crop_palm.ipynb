{
  "cells": [
    {
      "cell_type": "code",
      "execution_count": null,
      "metadata": {
        "id": "ngNjqvi_K4TY"
      },
      "outputs": [],
      "source": [
        "import os\n",
        "import cv2\n",
        "from tqdm import tqdm"
      ]
    },
    {
      "cell_type": "code",
      "execution_count": null,
      "metadata": {
        "id": "3PvsuSwUPrTA"
      },
      "outputs": [],
      "source": [
        " import matplotlib.pyplot as plt "
      ]
    },
    {
      "cell_type": "code",
      "execution_count": null,
      "metadata": {
        "id": "wom9rnQ-K3eb"
      },
      "outputs": [],
      "source": [
        "images_dir = r\"path to image\""
      ]
    },
    {
      "cell_type": "code",
      "execution_count": null,
      "metadata": {
        "id": "XhzKa8uTAIVo"
      },
      "outputs": [],
      "source": [
        "size = 500\n",
        "crop_dir = r\"path to dir for save\" # directory to save cropped"
      ]
    },
    {
      "cell_type": "code",
      "execution_count": null,
      "metadata": {
        "colab": {
          "base_uri": "https://localhost:8080/"
        },
        "id": "1UwTQvJhK-94",
        "outputId": "9142ed4c-f07b-41dc-de72-a5a2fa84b18a"
      },
      "outputs": [
        {
          "name": "stderr",
          "output_type": "stream",
          "text": [
            "100%|██████████| 180/180 [2:35:07<00:00, 51.71s/it]\n"
          ]
        }
      ],
      "source": [
        "count = 1\n",
        "for c in  tqdm(os.listdir(images_dir)):\n",
        "  mask_file = cv2.imread(labels_dir+'/'+c)\n",
        "  x,y = mask_file.shape[0]//size,mask_file.shape[1]//size\n",
        "  for i in range(x):\n",
        "    for j in range(y):\n",
        "      name_path = os.join(crop_dir,\"palm_\"+str(count)+\".tif\")\n",
        "      cropped_im = mask_file[size*i:size*(i+1),size*j:size*(j+1)]\n",
        "      cv2.imwrite(name_path, cropped_im)\n",
        "      count += 1"
      ]
    }
  ],
  "metadata": {
    "colab": {
      "collapsed_sections": [],
      "name": "crop_palm.ipynb",
      "provenance": []
    },
    "gpuClass": "standard",
    "kernelspec": {
      "display_name": "Python 3",
      "name": "python3"
    },
    "language_info": {
      "name": "python"
    }
  },
  "nbformat": 4,
  "nbformat_minor": 0
}
